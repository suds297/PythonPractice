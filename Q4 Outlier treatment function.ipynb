{
 "cells": [
  {
   "cell_type": "markdown",
   "id": "77fd89b2",
   "metadata": {},
   "source": [
    "Write a function that treats outliers\n",
    "\n",
    "Requirements-\n",
    "1. Should provide at least 2 methods/techniques to treat outliers\n",
    "2. Should allow you to choose an index/identifier variable that you don't want to treat(eg. customer_id)\n",
    "3. Should allow you to pass a list of continuous variables (since you may also have categorical variables that you don't want treated)- even better if it automatically detects these for you \n",
    "4. Be able to process a dataframe and give you an output of what it has done to each of the variables \n",
    "5. Bonus points if your code does diagnostics before it treats your variables/columns\n",
    "\n",
    "\n"
   ]
  }
 ],
 "metadata": {
  "kernelspec": {
   "display_name": "Python 3 (ipykernel)",
   "language": "python",
   "name": "python3"
  },
  "language_info": {
   "codemirror_mode": {
    "name": "ipython",
    "version": 3
   },
   "file_extension": ".py",
   "mimetype": "text/x-python",
   "name": "python",
   "nbconvert_exporter": "python",
   "pygments_lexer": "ipython3",
   "version": "3.9.12"
  }
 },
 "nbformat": 4,
 "nbformat_minor": 5
}
